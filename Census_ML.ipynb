{
 "cells": [
  {
   "cell_type": "code",
   "execution_count": 13,
   "id": "6a43a294",
   "metadata": {},
   "outputs": [
    {
     "data": {
      "image/png": "[encoded data removed]",
      "text/plain": [
       "<Figure size 432x288 with 1 Axes>"
      ]
     },
     "metadata": {
      "needs_background": "light"
     },
     "output_type": "display_data"
    },
    {
     "name": "stdout",
     "output_type": "stream",
     "text": [
      "Prediction through model-based learning for year 2031:  [[1530.52460933]]\n",
      "Prediction through instance-based learning for year 2031:  [[1059.68]]\n"
     ]
    }
   ],
   "source": [
    "%matplotlib inline\n",
    "import pandas as pd\n",
    "import sklearn.linear_model\n",
    "import sklearn.neighbors\n",
    "import numpy as np\n",
    "import matplotlib.pyplot as plt\n",
    "import os\n",
    "def load_data():\n",
    "    csv_path = os.path.join(\"ML_Project.csv\")\n",
    "    return pd.read_csv(csv_path)\n",
    "data=load_data()\n",
    "#data.head()\n",
    "#data.hist(bins=50, figsize=(20,15))\n",
    "#plt.show()\n",
    "data.plot(kind='scatter',x='Year',y='Population')\n",
    "plt.show()\n",
    "\n",
    "X = np.c_[data[\"Year\"]]\n",
    "Y = np.c_[data[\"Population\"]]\n",
    "\n",
    "model1 = sklearn.linear_model.LinearRegression()\n",
    "model1.fit(X,Y)\n",
    "X_new = [[2031]]\n",
    "print(\"Prediction through model-based learning for year 2031: \",model1.predict(X_new))\n",
    "\n",
    "model2 = sklearn.neighbors.KNeighborsRegressor()\n",
    "model2.fit(X,Y)\n",
    "print(\"Prediction through instance-based learning for year 2031: \",model2.predict(X_new))\n"
   ]
  },
  {
   "cell_type": "code",
   "execution_count": null,
   "id": "b67fbdf2",
   "metadata": {},
   "outputs": [],
   "source": []
  }
 ],
 "metadata": {
  "kernelspec": {
   "display_name": "Python 3",
   "language": "python",
   "name": "python3"
  },
  "language_info": {
   "codemirror_mode": {
    "name": "ipython",
    "version": 3
   },
   "file_extension": ".py",
   "mimetype": "text/x-python",
   "name": "python",
   "nbconvert_exporter": "python",
   "pygments_lexer": "ipython3",
   "version": "3.8.6"
  }
 },
 "nbformat": 4,
 "nbformat_minor": 5
}
